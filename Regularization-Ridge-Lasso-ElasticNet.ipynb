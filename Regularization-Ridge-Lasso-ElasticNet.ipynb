{
 "cells": [
  {
   "cell_type": "markdown",
   "id": "2f1aaa39",
   "metadata": {},
   "source": [
    "## Регуляризация"
   ]
  },
  {
   "cell_type": "markdown",
   "id": "3b39eb7d",
   "metadata": {},
   "source": [
    "Ранее мы создали набор полиномиальных признаков и затем применили для них линейную регрессию. Но мы можем сделать модель ещё лучше, используя регуляризацию.\n",
    "\n",
    "Регуляризация старается минимизировать метрику \"сумма квадратов остатков\" (RSS - residual sum of squares) *и* \"функцию штрафа\". Функция штрафа старается \"наказывать\" модели с очень большими коэффициентами. Некоторые методы регуляризации по сути приводят к тому, что некоторые неполезные признаки получают нулевые коэффициенты, то есть модель не будет использовать эти признаки.\n",
    "\n",
    "Рассмотрим два метода регуляризации - гребневая регрессия (или ридж-регрессия, или регрессия риджа, англ. ridge regression) и регрессия лассо. Мы будем использовать их в сочетании с полиномиальными признаками."
   ]
  },
  {
   "cell_type": "markdown",
   "id": "d65bccc9",
   "metadata": {},
   "source": [
    "### Imports"
   ]
  },
  {
   "cell_type": "code",
   "execution_count": 1,
   "id": "e3ea082f",
   "metadata": {},
   "outputs": [],
   "source": [
    "import numpy as np\n",
    "import pandas as pd\n",
    "import matplotlib.pyplot as plt\n",
    "import seaborn as sns"
   ]
  },
  {
   "cell_type": "markdown",
   "id": "5d9788b0",
   "metadata": {},
   "source": [
    "### Загрузка данных и подготовительные шаги"
   ]
  },
  {
   "cell_type": "code",
   "execution_count": 2,
   "id": "b5ee72ab",
   "metadata": {},
   "outputs": [],
   "source": [
    "df = pd.read_csv(\"../DATA/Advertising.csv\")\n",
    "X = df.drop('sales',axis=1)\n",
    "y = df['sales']"
   ]
  },
  {
   "cell_type": "markdown",
   "id": "edfab8e9",
   "metadata": {},
   "source": [
    "### Полиномиальная конвертация"
   ]
  },
  {
   "cell_type": "code",
   "execution_count": 3,
   "id": "05e16040",
   "metadata": {},
   "outputs": [],
   "source": [
    "from sklearn.preprocessing import PolynomialFeatures\n",
    "polynomial_converter = PolynomialFeatures(degree=3,include_bias=False)\n",
    "poly_features = polynomial_converter.fit_transform(X)"
   ]
  },
  {
   "cell_type": "markdown",
   "id": "8be76923",
   "metadata": {},
   "source": [
    "### Разбиение на обучающий и тестовый наборы данных -  Train | Test Split"
   ]
  },
  {
   "cell_type": "code",
   "execution_count": 4,
   "id": "c427ecf1",
   "metadata": {},
   "outputs": [],
   "source": [
    "from sklearn.model_selection import train_test_split\n",
    "X_train, X_test, y_train, y_test = train_test_split(poly_features, y, test_size=0.3, random_state=101)"
   ]
  },
  {
   "cell_type": "markdown",
   "id": "73ecd650",
   "metadata": {},
   "source": [
    "### Масштабирование данных"
   ]
  },
  {
   "cell_type": "markdown",
   "id": "8f41ccba",
   "metadata": {},
   "source": [
    "Хотя в наших данных все признаки имеют один и тот же порядок величины (в $1000 долларов), это не всегда верно в других наборах данных. Поскольку математика регуляризации будет суммировать коэффициенты, очень важно стандартизировать признаки."
   ]
  },
  {
   "cell_type": "code",
   "execution_count": 5,
   "id": "2c35d583",
   "metadata": {},
   "outputs": [],
   "source": [
    "from sklearn.preprocessing import StandardScaler\n",
    "scaler = StandardScaler()\n",
    "scaler.fit(X_train)\n",
    "X_train = scaler.transform(X_train)\n",
    "X_test = scaler.transform(X_test)"
   ]
  },
  {
   "cell_type": "markdown",
   "id": "77e961de",
   "metadata": {},
   "source": [
    "## Гребневая регрессия (Ridge Regression)"
   ]
  },
  {
   "cell_type": "code",
   "execution_count": 6,
   "id": "e4b87d3f",
   "metadata": {},
   "outputs": [
    {
     "name": "stdout",
     "output_type": "stream",
     "text": [
      "MAE = 0.5774404204714183\n",
      "MSE = 0.8003783071528418\n",
      "RMSE = 0.8946386461319686\n"
     ]
    }
   ],
   "source": [
    "from sklearn.linear_model import Ridge\n",
    "ridge_model = Ridge(alpha=10)\n",
    "ridge_model.fit(X_train,y_train)\n",
    "y_pred = ridge_model.predict(X_test)\n",
    "from sklearn.metrics import mean_absolute_error,mean_squared_error\n",
    "MAE = mean_absolute_error(y_test,y_pred)\n",
    "MSE = mean_squared_error(y_test,y_pred)\n",
    "RMSE = np.sqrt(MSE)\n",
    "\n",
    "print('MAE =', MAE)\n",
    "print('MSE =', MSE)\n",
    "print('RMSE =', RMSE)\n",
    "\n"
   ]
  },
  {
   "cell_type": "markdown",
   "id": "3beab0e0",
   "metadata": {},
   "source": [
    "Какова точность на обучающей выборке? (Мы будем использовать это позже для сравнения)"
   ]
  },
  {
   "cell_type": "code",
   "execution_count": 7,
   "id": "1009eae2",
   "metadata": {},
   "outputs": [
    {
     "data": {
      "text/plain": [
       "0.5288348183025331"
      ]
     },
     "execution_count": 7,
     "metadata": {},
     "output_type": "execute_result"
    }
   ],
   "source": [
    "train_predictions = ridge_model.predict(X_train)\n",
    "MAE = mean_absolute_error(y_train,train_predictions)\n",
    "MAE"
   ]
  },
  {
   "cell_type": "markdown",
   "id": "87cc5872",
   "metadata": {},
   "source": [
    "### Выбираем значение alpha с помощью кросс-валидации"
   ]
  },
  {
   "cell_type": "code",
   "execution_count": 8,
   "id": "dd92be7f",
   "metadata": {},
   "outputs": [
    {
     "data": {
      "text/plain": [
       "0.1"
      ]
     },
     "execution_count": 8,
     "metadata": {},
     "output_type": "execute_result"
    }
   ],
   "source": [
    "from sklearn.linear_model import RidgeCV\n",
    "ridge_cv_model = RidgeCV(alphas=(0.1, 1.0, 10.0),scoring='neg_mean_absolute_error')\n",
    "ridge_cv_model.fit(X_train,y_train)\n",
    "ridge_cv_model.alpha_"
   ]
  },
  {
   "cell_type": "markdown",
   "id": "8284e8de",
   "metadata": {},
   "source": [
    "Делаем прогноз"
   ]
  },
  {
   "cell_type": "code",
   "execution_count": 9,
   "id": "d0b6522b",
   "metadata": {},
   "outputs": [
    {
     "name": "stdout",
     "output_type": "stream",
     "text": [
      "MAE = 0.42737748843373746\n",
      "MSE = 0.38201298815043333\n",
      "RMSE = 0.6180719926921404\n"
     ]
    }
   ],
   "source": [
    "y_pred = ridge_cv_model.predict(X_test)\n",
    "from sklearn.metrics import mean_absolute_error,mean_squared_error\n",
    "MAE = mean_absolute_error(y_test,y_pred)\n",
    "MSE = mean_squared_error(y_test,y_pred)\n",
    "RMSE = np.sqrt(MSE)\n",
    "\n",
    "print('MAE =', MAE)\n",
    "print('MSE =', MSE)\n",
    "print('RMSE =', RMSE)"
   ]
  },
  {
   "cell_type": "markdown",
   "id": "557461e4",
   "metadata": {},
   "source": [
    "Метрика MAE на обучающем наборе"
   ]
  },
  {
   "cell_type": "code",
   "execution_count": 10,
   "id": "b4a95db6",
   "metadata": {},
   "outputs": [
    {
     "data": {
      "text/plain": [
       "0.3094132105662787"
      ]
     },
     "execution_count": 10,
     "metadata": {},
     "output_type": "execute_result"
    }
   ],
   "source": [
    "train_predictions = ridge_cv_model.predict(X_train)\n",
    "MAE = mean_absolute_error(y_train,train_predictions)\n",
    "MAE"
   ]
  },
  {
   "cell_type": "markdown",
   "id": "a1c89ae6",
   "metadata": {},
   "source": [
    "## Регрессия Лассо"
   ]
  },
  {
   "cell_type": "code",
   "execution_count": 11,
   "id": "30bcfbeb",
   "metadata": {},
   "outputs": [
    {
     "data": {
      "text/plain": [
       "0.4943070909225828"
      ]
     },
     "execution_count": 11,
     "metadata": {},
     "output_type": "execute_result"
    }
   ],
   "source": [
    "from sklearn.linear_model import LassoCV\n",
    "lasso_cv_model = LassoCV(eps=0.1,n_alphas=100,cv=5)\n",
    "lasso_cv_model.fit(X_train,y_train)\n",
    "lasso_cv_model.alpha_"
   ]
  },
  {
   "cell_type": "code",
   "execution_count": 12,
   "id": "da5679ca",
   "metadata": {},
   "outputs": [
    {
     "name": "stdout",
     "output_type": "stream",
     "text": [
      "MAE = 0.6541723161252854\n",
      "MSE = 1.2787088713079842\n",
      "RMSE = 1.130800102276253\n"
     ]
    }
   ],
   "source": [
    "y_pred = lasso_cv_model.predict(X_test)\n",
    "from sklearn.metrics import mean_absolute_error,mean_squared_error\n",
    "MAE = mean_absolute_error(y_test,y_pred)\n",
    "MSE = mean_squared_error(y_test,y_pred)\n",
    "RMSE = np.sqrt(MSE)\n",
    "\n",
    "print('MAE =', MAE)\n",
    "print('MSE =', MSE)\n",
    "print('RMSE =', RMSE)"
   ]
  },
  {
   "cell_type": "markdown",
   "id": "508e6f2c",
   "metadata": {},
   "source": [
    "Метрика MAE на обучающем наборе"
   ]
  },
  {
   "cell_type": "code",
   "execution_count": 13,
   "id": "f6ecc812",
   "metadata": {},
   "outputs": [
    {
     "data": {
      "text/plain": [
       "0.6912807140820695"
      ]
     },
     "execution_count": 13,
     "metadata": {},
     "output_type": "execute_result"
    }
   ],
   "source": [
    "train_predictions = lasso_cv_model.predict(X_train)\n",
    "MAE = mean_absolute_error(y_train,train_predictions)\n",
    "MAE"
   ]
  },
  {
   "cell_type": "markdown",
   "id": "f513bef3",
   "metadata": {},
   "source": [
    "## Elastic Net\n",
    "\n",
    "Elastic Net сочетает в себе ридж-регрессию и лассо-регрессию, чтобы взять лучшее из обеих регуляризаций!"
   ]
  },
  {
   "cell_type": "code",
   "execution_count": 14,
   "id": "7bd4d247",
   "metadata": {},
   "outputs": [
    {
     "data": {
      "text/plain": [
       "1.0"
      ]
     },
     "execution_count": 14,
     "metadata": {},
     "output_type": "execute_result"
    }
   ],
   "source": [
    "from sklearn.linear_model import ElasticNetCV\n",
    "elastic_model = ElasticNetCV(l1_ratio=[.1, .5, .7,.9, .95, .99, 1],tol=0.01)\n",
    "elastic_model.fit(X_train,y_train)\n",
    "elastic_model.l1_ratio_"
   ]
  },
  {
   "cell_type": "code",
   "execution_count": 15,
   "id": "839bd9ad",
   "metadata": {},
   "outputs": [
    {
     "name": "stdout",
     "output_type": "stream",
     "text": [
      "MAE = 0.5663262117569448\n",
      "MSE = 0.5603340214638836\n",
      "RMSE = 0.7485546215633724\n"
     ]
    }
   ],
   "source": [
    "y_pred = elastic_model.predict(X_test)\n",
    "from sklearn.metrics import mean_absolute_error,mean_squared_error\n",
    "MAE = mean_absolute_error(y_test,y_pred)\n",
    "MSE = mean_squared_error(y_test,y_pred)\n",
    "RMSE = np.sqrt(MSE)\n",
    "\n",
    "print('MAE =', MAE)\n",
    "print('MSE =', MSE)\n",
    "print('RMSE =', RMSE)"
   ]
  },
  {
   "cell_type": "markdown",
   "id": "0a7419e4",
   "metadata": {},
   "source": [
    "Метрика MAE на обучающем наборе"
   ]
  },
  {
   "cell_type": "code",
   "execution_count": 16,
   "id": "b606bb10",
   "metadata": {},
   "outputs": [
    {
     "data": {
      "text/plain": [
       "0.4307582990472369"
      ]
     },
     "execution_count": 16,
     "metadata": {},
     "output_type": "execute_result"
    }
   ],
   "source": [
    "train_predictions = elastic_model.predict(X_train)\n",
    "MAE = mean_absolute_error(y_train,train_predictions)\n",
    "MAE"
   ]
  },
  {
   "cell_type": "markdown",
   "id": "9b55d218",
   "metadata": {},
   "source": [
    "Из оценок видно, что эластичная сеть имеет бОльшую точность."
   ]
  }
 ],
 "metadata": {
  "kernelspec": {
   "display_name": "Python 3 (ipykernel)",
   "language": "python",
   "name": "python3"
  },
  "language_info": {
   "codemirror_mode": {
    "name": "ipython",
    "version": 3
   },
   "file_extension": ".py",
   "mimetype": "text/x-python",
   "name": "python",
   "nbconvert_exporter": "python",
   "pygments_lexer": "ipython3",
   "version": "3.9.12"
  }
 },
 "nbformat": 4,
 "nbformat_minor": 5
}
